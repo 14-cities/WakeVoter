{
 "cells": [
  {
   "cell_type": "markdown",
   "metadata": {},
   "source": [
    "## Generate Summary Sheets\n",
    "Generate google sheets summarizing org units tables and org unit voter lists.\n",
    "\n",
    "Fields to include in the summary org unit table:\n",
    "* [Rand_ID] Randomized org unit ID\n",
    "* [OrgType] Org type (block or block aggregate)\n",
    "* [Precinct] Precinct number\n",
    "* [BlackHH] Estimated Black HH\n",
    "* [TOT_POP] Total census population\n",
    "* [TOT_POP_Black] Total census Black population\n",
    "* [Pct_Black] % Black pop (census)\n",
    "* [TOT_POP_Registered] Total registered population\n",
    "* [TOT_Reg_black] Total Black registered population\n",
    "* [PTC_Reg_black] % Black voters\n",
    "* [Sq_miles] Square miles\n",
    "* [MECEx] Columns for number of Black MECE 1's, 2's, 3's, 4's, 5's \n",
    "* [] Blank columns named \"support volunteer name\", \"support vol phone\", \"support vol email\", \"block team member\", \"block team phone\", \"block team email\",\"Notes\"\n",
    "* [] Total number of distinct addresses/housing units\n",
    "* [] Address closest to centroid of org unit OR lat/long of centroid \n",
    "* [] City ward of county seat; if this is hard, then binary of whether it's in the city limits or not. If that's not any easier, zero worries -- skip\n",
    "* [] Polling place (ditto -- skip if time consuming)\n",
    "* [] Polling place address (ditto above)"
   ]
  },
  {
   "cell_type": "code",
   "execution_count": 1,
   "metadata": {},
   "outputs": [],
   "source": [
    "import geopandas as gpd\n",
    "import pandas as pd"
   ]
  },
  {
   "cell_type": "code",
   "execution_count": 50,
   "metadata": {},
   "outputs": [],
   "source": [
    "#Read in the shapefile\n",
    "theCounty = 'WAKE'\n",
    "df = pd.read_csv('../data/{0}/{0}_orgunits.csv'.format(theCounty),index_col='RandomID').fillna(0)\n",
    "df['Total'] = df['Total'].astype('int')"
   ]
  },
  {
   "cell_type": "code",
   "execution_count": 11,
   "metadata": {
    "collapsed": true
   },
   "outputs": [
    {
     "data": {
      "text/plain": [
       "BlackHH                                                      64\n",
       "HOUSING10                                                   105\n",
       "MECE1                                                        27\n",
       "MECE2                                                        49\n",
       "MECE3                                                        19\n",
       "MECE4                                                         7\n",
       "MECE5                                                        29\n",
       "OrgID                                                       153\n",
       "OrgType                                      Full block cluster\n",
       "P003001                                                     334\n",
       "P003003                                                     203\n",
       "P010001                                                     216\n",
       "P010004                                                     128\n",
       "POP10                                                       334\n",
       "PctBlack                                                60.7784\n",
       "PctBlack18                                              59.2593\n",
       "Total                                                       102\n",
       "geometry      POLYGON ((-78.548169 35.837194, -78.5482969999...\n",
       "sq_miles                                              0.0257301\n",
       "Name: 1, dtype: object"
      ]
     },
     "execution_count": 11,
     "metadata": {},
     "output_type": "execute_result"
    }
   ],
   "source": [
    "df.iloc[0]"
   ]
  },
  {
   "cell_type": "code",
   "execution_count": 51,
   "metadata": {},
   "outputs": [
    {
     "data": {
      "text/plain": [
       "Index(['BlackHH', 'HOUSING10', 'MECE1', 'MECE2', 'MECE3', 'MECE4', 'MECE5',\n",
       "       'OrgID', 'OrgType', 'TOT_POP', 'TOT_POP_black', 'P010001', 'P010004',\n",
       "       'POP10', 'PctBlack', 'PctBlack18', 'TOT_Reg_black', 'geometry',\n",
       "       'sq_miles'],\n",
       "      dtype='object')"
      ]
     },
     "execution_count": 51,
     "metadata": {},
     "output_type": "execute_result"
    }
   ],
   "source": [
    "#Rename columns\n",
    "df.rename(columns={'P003001':'TOT_POP',\n",
    "                   'P003003':'TOT_POP_black',\n",
    "                   'Total':'TOT_Reg_black'\n",
    "                   },inplace=True)\n",
    "df.columns"
   ]
  },
  {
   "cell_type": "code",
   "execution_count": 53,
   "metadata": {},
   "outputs": [
    {
     "data": {
      "text/html": [
       "<div>\n",
       "<style scoped>\n",
       "    .dataframe tbody tr th:only-of-type {\n",
       "        vertical-align: middle;\n",
       "    }\n",
       "\n",
       "    .dataframe tbody tr th {\n",
       "        vertical-align: top;\n",
       "    }\n",
       "\n",
       "    .dataframe thead th {\n",
       "        text-align: right;\n",
       "    }\n",
       "</style>\n",
       "<table border=\"1\" class=\"dataframe\">\n",
       "  <thead>\n",
       "    <tr style=\"text-align: right;\">\n",
       "      <th></th>\n",
       "      <th>OrgType</th>\n",
       "      <th>BlackHH</th>\n",
       "      <th>TOT_POP</th>\n",
       "      <th>TOT_POP_black</th>\n",
       "      <th>TOT_Reg_black</th>\n",
       "      <th>sq_miles</th>\n",
       "      <th>MECE1</th>\n",
       "      <th>MECE2</th>\n",
       "      <th>MECE3</th>\n",
       "      <th>MECE4</th>\n",
       "      <th>MECE5</th>\n",
       "    </tr>\n",
       "    <tr>\n",
       "      <th>RandomID</th>\n",
       "      <th></th>\n",
       "      <th></th>\n",
       "      <th></th>\n",
       "      <th></th>\n",
       "      <th></th>\n",
       "      <th></th>\n",
       "      <th></th>\n",
       "      <th></th>\n",
       "      <th></th>\n",
       "      <th></th>\n",
       "      <th></th>\n",
       "    </tr>\n",
       "  </thead>\n",
       "  <tbody>\n",
       "    <tr>\n",
       "      <th>1</th>\n",
       "      <td>Full block cluster</td>\n",
       "      <td>64</td>\n",
       "      <td>334</td>\n",
       "      <td>203</td>\n",
       "      <td>102</td>\n",
       "      <td>0.025730</td>\n",
       "      <td>27.0</td>\n",
       "      <td>49.0</td>\n",
       "      <td>19.0</td>\n",
       "      <td>7.0</td>\n",
       "      <td>29.0</td>\n",
       "    </tr>\n",
       "    <tr>\n",
       "      <th>2</th>\n",
       "      <td>Full block cluster</td>\n",
       "      <td>83</td>\n",
       "      <td>234</td>\n",
       "      <td>174</td>\n",
       "      <td>2</td>\n",
       "      <td>0.024680</td>\n",
       "      <td>0.0</td>\n",
       "      <td>2.0</td>\n",
       "      <td>0.0</td>\n",
       "      <td>0.0</td>\n",
       "      <td>8.0</td>\n",
       "    </tr>\n",
       "    <tr>\n",
       "      <th>3</th>\n",
       "      <td>OriginalBlock</td>\n",
       "      <td>63</td>\n",
       "      <td>134</td>\n",
       "      <td>70</td>\n",
       "      <td>3</td>\n",
       "      <td>0.010462</td>\n",
       "      <td>0.0</td>\n",
       "      <td>0.0</td>\n",
       "      <td>2.0</td>\n",
       "      <td>1.0</td>\n",
       "      <td>8.0</td>\n",
       "    </tr>\n",
       "    <tr>\n",
       "      <th>4</th>\n",
       "      <td>OriginalBlock</td>\n",
       "      <td>86</td>\n",
       "      <td>364</td>\n",
       "      <td>230</td>\n",
       "      <td>35</td>\n",
       "      <td>0.204094</td>\n",
       "      <td>9.0</td>\n",
       "      <td>16.0</td>\n",
       "      <td>8.0</td>\n",
       "      <td>2.0</td>\n",
       "      <td>8.0</td>\n",
       "    </tr>\n",
       "    <tr>\n",
       "      <th>5</th>\n",
       "      <td>Partial block cluster</td>\n",
       "      <td>83</td>\n",
       "      <td>283</td>\n",
       "      <td>204</td>\n",
       "      <td>72</td>\n",
       "      <td>0.045332</td>\n",
       "      <td>11.0</td>\n",
       "      <td>21.0</td>\n",
       "      <td>22.0</td>\n",
       "      <td>18.0</td>\n",
       "      <td>32.0</td>\n",
       "    </tr>\n",
       "  </tbody>\n",
       "</table>\n",
       "</div>"
      ],
      "text/plain": [
       "                        OrgType  BlackHH  TOT_POP  TOT_POP_black  \\\n",
       "RandomID                                                           \n",
       "1            Full block cluster       64      334            203   \n",
       "2            Full block cluster       83      234            174   \n",
       "3                 OriginalBlock       63      134             70   \n",
       "4                 OriginalBlock       86      364            230   \n",
       "5         Partial block cluster       83      283            204   \n",
       "\n",
       "          TOT_Reg_black  sq_miles  MECE1  MECE2  MECE3  MECE4  MECE5  \n",
       "RandomID                                                              \n",
       "1                   102  0.025730   27.0   49.0   19.0    7.0   29.0  \n",
       "2                     2  0.024680    0.0    2.0    0.0    0.0    8.0  \n",
       "3                     3  0.010462    0.0    0.0    2.0    1.0    8.0  \n",
       "4                    35  0.204094    9.0   16.0    8.0    2.0    8.0  \n",
       "5                    72  0.045332   11.0   21.0   22.0   18.0   32.0  "
      ]
     },
     "execution_count": 53,
     "metadata": {},
     "output_type": "execute_result"
    }
   ],
   "source": [
    "df1 = df[['OrgType','BlackHH','TOT_POP','TOT_POP_black','TOT_Reg_black','sq_miles','MECE1','MECE2','MECE3','MECE4','MECE5']]\n",
    "df1.head()#[df1['TOT_Reg_black'].isnull()]\n"
   ]
  },
  {
   "cell_type": "code",
   "execution_count": null,
   "metadata": {},
   "outputs": [],
   "source": []
  }
 ],
 "metadata": {
  "kernelspec": {
   "display_name": "Python 3",
   "language": "python",
   "name": "python3"
  },
  "language_info": {
   "codemirror_mode": {
    "name": "ipython",
    "version": 3
   },
   "file_extension": ".py",
   "mimetype": "text/x-python",
   "name": "python",
   "nbconvert_exporter": "python",
   "pygments_lexer": "ipython3",
   "version": "3.6.8"
  }
 },
 "nbformat": 4,
 "nbformat_minor": 2
}
