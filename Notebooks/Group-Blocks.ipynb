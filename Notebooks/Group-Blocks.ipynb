{
 "cells": [
  {
   "cell_type": "markdown",
   "metadata": {},
   "source": [
    "The first round reveals block groups that are: \n",
    "* Majority black\n",
    "* Have over 50 black households (\"BHH\")\n",
    "* Have at least 2 block leaders (MECE 1)\n",
    "\n",
    "However, this omits adjacent blocks that could be spatially merged into one or more organizational units. To identify these other areas, we isolate clusters of majority black blocks with fewer than 50 BHH, and dissolve them into single units. \n",
    "\n",
    "However, this often results in clusters with far more than 100 BHH: too much for block leaders to cover. So, we must spatially aggregate these blocks up to a point where total black population hits 100 HH. "
   ]
  },
  {
   "cell_type": "markdown",
   "metadata": {},
   "source": [
    "The workflow is as follows:\n",
    "* Read in all the blocks from the \"BlockMece.shp\" file. These include all majority black blocks.\n",
    "* From this, subset blocks with < 50 black households (but at least 10, to make it worthwhile).\n",
    "* Dissolve these into single block clusters and tally the total number of black HH's in each block cluster\n",
    "* Subset clusters with that now have between 50 and 100 aggregate BHH: these are new org units\n",
    "* For thos with > 100 aggregate BHH, split these up into smaller units\n",
    " * Iterate through each cluster\n",
    "  * Identify the blocks falling within the cluster\n",
    "  * Identify the number of unique block groups; if > 1, will dividing by block group work? \n",
    "  * Select the block and grab all blocks adjacent to it\n",
    "      * Tally the # of BHHs within this sub-cluster; if < 100 select blocks adjacent to that"
   ]
  },
  {
   "cell_type": "code",
   "execution_count": 3,
   "metadata": {},
   "outputs": [],
   "source": [
    "import pandas as pd\n",
    "import geopandas as gpd\n",
    "%matplotlib inline"
   ]
  },
  {
   "cell_type": "code",
   "execution_count": 2,
   "metadata": {},
   "outputs": [],
   "source": [
    "#Get block data\n",
    "fcBlocksAll = gpd.read_file('./data/WAKE/BlockMece.shp')"
   ]
  },
  {
   "cell_type": "markdown",
   "metadata": {},
   "source": [
    "Subset the blocks, keeping only those with fewer than 50 black households. This will create clusters of blocks separated by other blocks with "
   ]
  },
  {
   "cell_type": "code",
   "execution_count": 6,
   "metadata": {},
   "outputs": [],
   "source": [
    "#Subset blocks with fewer than 50 black households\n",
    "fcBlocksSubset  = fcBlocksAll[(fcBlocksAll.BlackHH < 50) & (fcBlocksAll.BlackHH > 10)].reset_index()\n",
    "#Dissolve adjancet blocks\n",
    "fcClusters = gpd.GeoDataFrame(geometry = list(fcBlocksSubset.unary_union))\n",
    "#Add a static ID field to the geodataframe\n",
    "fcClusters['ID'] = fcClusters.index\n",
    "#Copy over crs to new file\n",
    "fcClusters.crs = fcBlocksSubset.crs"
   ]
  },
  {
   "cell_type": "markdown",
   "metadata": {},
   "source": [
    "Assign new columns to the block features. `ID` will be the cluster to which the block belongs, and `OrgID` will be it's assigned organizaitional unit ID."
   ]
  },
  {
   "cell_type": "code",
   "execution_count": 11,
   "metadata": {},
   "outputs": [],
   "source": [
    "#Spatially join the dissolved ID to the subset blocks layer\n",
    "fcBlockSubset2 = gpd.sjoin(fcBlocksSubset,fcClusters,how='left',op='within').drop(\"index_right\",axis=1)\n",
    "#Initialize the field to contain new organizational unit IDs\n",
    "fcBlockSubset2['OrgID'] = 0"
   ]
  },
  {
   "cell_type": "markdown",
   "metadata": {},
   "source": [
    "Now we compute the total number of BHH found within each cluster. From that we can identify which clusters are good as is (those with between 50 and 100 aggregate BHH), those which remain untenable (fewer than 50 aggregate BHH), and those that need to be divided up (more than 100 aggregate BHH)."
   ]
  },
  {
   "cell_type": "code",
   "execution_count": null,
   "metadata": {},
   "outputs": [],
   "source": [
    "#Compute total BHH for the dissolved blocks and add as attribute to bloc\n",
    "sumHH = fcBlockSubset2.groupby('ID').agg({'BlackHH':'sum'})\n",
    "#Join total aggregate BHH to the cluster geoframe\n",
    "fcClusters2=pd.merge(fcClusters,sumHH,left_index=True,right_index=True)"
   ]
  },
  {
   "cell_type": "code",
   "execution_count": 87,
   "metadata": {},
   "outputs": [
    {
     "data": {
      "text/plain": [
       "26"
      ]
     },
     "execution_count": 87,
     "metadata": {},
     "output_type": "execute_result"
    }
   ],
   "source": [
    "#Save clusters with between 50 and 100 HH to a a new geoframe\n",
    "fcClusters_keep1 = fcClusters2[(fcClusters2.BlackHH > 50) & (fcClusters2.BlackHH <= 100)].reset_index()\n",
    "fcClusters_keep1.shape[0]"
   ]
  },
  {
   "cell_type": "markdown",
   "metadata": {},
   "source": [
    "Now to select new blocks with > 100 HH and break them up.\n",
    "* Find IDs of dissolved blocks with HH > 100\n",
    "* Iterate through each:\n",
    " * Select the subset and ID-joined blocks with the ID matching the current dissolved block\n",
    " * From those, select the eastern most block\n",
    "  * Extract it's HH value to a varaiable \"HH\"\n",
    "  * Select adjacent blocks and add their HH values to \"HH\"; keep a list of block IDs\n",
    "  * Stop when HH > 100 and dissolve those blocks together. \n",
    "  * Select the eastern most of the remaining blocks and repeat\n",
    " * Move to the next dissolve block. "
   ]
  },
  {
   "cell_type": "code",
   "execution_count": 85,
   "metadata": {},
   "outputs": [
    {
     "data": {
      "text/plain": [
       "30"
      ]
     },
     "execution_count": 85,
     "metadata": {},
     "output_type": "execute_result"
    }
   ],
   "source": [
    "#Find IDs of dissolved blocks with HH > 100\n",
    "fcTooBig = fcClusters2.query('BlackHH > 100')\n",
    "fcTooBig.shape[0]"
   ]
  },
  {
   "cell_type": "code",
   "execution_count": 128,
   "metadata": {},
   "outputs": [],
   "source": [
    "#We'll iterate through each\n",
    "for idx in fcTooBig.ID:\n",
    "    #Get the cluster ID\n",
    "    clusterID = fcTooBig.loc[idx,\"ID\"]\n",
    "    #Get the blocks with that ID\n",
    "    fcCBlocks = fcBlockSubset2[(fcBlockSubset2.ID == clusterID) & (fcBlockSubset2.OrgID == 0)].reset_index()\n",
    "    \n",
    "    #Add the X coordinate as a column\n",
    "    fcCBlocks['X'] = fcCBlocks.geometry.centroid.x\n",
    "    \n",
    "    #Start with the feat with the min X\n",
    "    fcNbrs = fcCBlocks[fcCBlocks.X == fcCBlocks.X.max()]\n",
    "    \n",
    "    #Get the number of aggregate BGG in the selection\n",
    "    BHH = fcNbrs.BlackHH.sum()\n",
    "    geom = fcNbrs.geometry.unary_union\n",
    "\n",
    "    #Increase the selection \n",
    "    iterX = 0 #Catch to avoid infinite loops\n",
    "    while BHH < 100 and iterX < 100: \n",
    "        #Find the blocks that touch\n",
    "        fcNbrs = fcBlockSubset2[(fcBlockSubset2.intersects(geom)) & #Select blocks that are adjacent\n",
    "                                (fcBlockSubset2.BlackHH < 50) &     #...that have fewer than 50 BHH\n",
    "                                (fcBlockSubset2.BlackHH > 10)       #...but have at least 10 BHH\n",
    "                               ]\n",
    "        BHH = fcNbrs.BlackHH.sum()\n",
    "        geom = fcNbrs.geometry.unary_union\n",
    "        iterX += 1\n",
    "\n",
    "    #Select blocks and assign its OrgID\n",
    "    fcBlockSubset2.loc[fcBlockSubset2.intersects(geom),'OrgID'] = idx+1000"
   ]
  },
  {
   "cell_type": "code",
   "execution_count": 129,
   "metadata": {},
   "outputs": [],
   "source": [
    "fcClusters_keep2 = fcBlockSubset2.query('OrgID > 100').dissolve(by='OrgID',aggfunc={'BlackHH':'sum'})\n",
    "fcClusters_keep2['ID']=fcClusters_keep2.index\n",
    "fcAll = fcClusters_keep1.append(fcClusters_keep2,ignore_index=True,sort=False).reset_index()"
   ]
  },
  {
   "cell_type": "code",
   "execution_count": 130,
   "metadata": {},
   "outputs": [],
   "source": [
    "fcAll.to_file(\"./scratch/OrgUnitsX.shp\")"
   ]
  },
  {
   "cell_type": "code",
   "execution_count": 131,
   "metadata": {},
   "outputs": [
    {
     "data": {
      "text/html": [
       "<div>\n",
       "<style scoped>\n",
       "    .dataframe tbody tr th:only-of-type {\n",
       "        vertical-align: middle;\n",
       "    }\n",
       "\n",
       "    .dataframe tbody tr th {\n",
       "        vertical-align: top;\n",
       "    }\n",
       "\n",
       "    .dataframe thead th {\n",
       "        text-align: right;\n",
       "    }\n",
       "</style>\n",
       "<table border=\"1\" class=\"dataframe\">\n",
       "  <thead>\n",
       "    <tr style=\"text-align: right;\">\n",
       "      <th></th>\n",
       "      <th>BlackHH</th>\n",
       "      <th>geometry</th>\n",
       "    </tr>\n",
       "  </thead>\n",
       "  <tbody>\n",
       "    <tr>\n",
       "      <th>0</th>\n",
       "      <td>70.072829</td>\n",
       "      <td>POLYGON ((-78.33744 35.821984, -78.337457 35.8...</td>\n",
       "    </tr>\n",
       "    <tr>\n",
       "      <th>4</th>\n",
       "      <td>52.784615</td>\n",
       "      <td>POLYGON ((-78.572563 35.811895, -78.572035 35....</td>\n",
       "    </tr>\n",
       "    <tr>\n",
       "      <th>5</th>\n",
       "      <td>62.686567</td>\n",
       "      <td>POLYGON ((-78.65722199999999 35.782297, -78.65...</td>\n",
       "    </tr>\n",
       "    <tr>\n",
       "      <th>9</th>\n",
       "      <td>137.087805</td>\n",
       "      <td>POLYGON ((-78.60934899999999 35.75329, -78.609...</td>\n",
       "    </tr>\n",
       "    <tr>\n",
       "      <th>10</th>\n",
       "      <td>58.722581</td>\n",
       "      <td>POLYGON ((-78.65531299999999 35.87068, -78.654...</td>\n",
       "    </tr>\n",
       "  </tbody>\n",
       "</table>\n",
       "</div>"
      ],
      "text/plain": [
       "       BlackHH                                           geometry\n",
       "0    70.072829  POLYGON ((-78.33744 35.821984, -78.337457 35.8...\n",
       "4    52.784615  POLYGON ((-78.572563 35.811895, -78.572035 35....\n",
       "5    62.686567  POLYGON ((-78.65722199999999 35.782297, -78.65...\n",
       "9   137.087805  POLYGON ((-78.60934899999999 35.75329, -78.609...\n",
       "10   58.722581  POLYGON ((-78.65531299999999 35.87068, -78.654..."
      ]
     },
     "execution_count": 131,
     "metadata": {},
     "output_type": "execute_result"
    }
   ],
   "source": [
    "fcOrig = fcBlocksAll.loc[fcBlocksAll.BlackHH > 50,['BlackHH','geometry']]\n",
    "fcOrig['ID']\n",
    "fcOrig.head()"
   ]
  }
 ],
 "metadata": {
  "kernelspec": {
   "display_name": "Python 3",
   "language": "python",
   "name": "python3"
  },
  "language_info": {
   "codemirror_mode": {
    "name": "ipython",
    "version": 3
   },
   "file_extension": ".py",
   "mimetype": "text/x-python",
   "name": "python",
   "nbconvert_exporter": "python",
   "pygments_lexer": "ipython3",
   "version": "3.6.8"
  }
 },
 "nbformat": 4,
 "nbformat_minor": 2
}
