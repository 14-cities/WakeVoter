{
 "cells": [
  {
   "cell_type": "markdown",
   "metadata": {},
   "source": [
    "# Identify Super Voters\n",
    "Extracts voter history data for a selected county (Wake) and tallies the number of time each DEM voter (\"voter_reg_num\") has voted, i.e. the number of counts. These voters are gjoi"
   ]
  },
  {
   "cell_type": "code",
   "execution_count": 1,
   "metadata": {},
   "outputs": [],
   "source": [
    "import pandas as pd"
   ]
  },
  {
   "cell_type": "code",
   "execution_count": 136,
   "metadata": {},
   "outputs": [
    {
     "data": {
      "text/plain": [
       "Index(['county_desc', 'election_lbl', 'ncid'], dtype='object')"
      ]
     },
     "execution_count": 136,
     "metadata": {},
     "output_type": "execute_result"
    }
   ],
   "source": [
    "pd.read_csv('./data/NCSBE/ncvhis_Statewide.txt',sep='\\t',nrows=10,usecols=('county_desc','election_lbl','ncid')).columns"
   ]
  },
  {
   "cell_type": "code",
   "execution_count": 64,
   "metadata": {},
   "outputs": [
    {
     "data": {
      "text/html": [
       "<div>\n",
       "<style scoped>\n",
       "    .dataframe tbody tr th:only-of-type {\n",
       "        vertical-align: middle;\n",
       "    }\n",
       "\n",
       "    .dataframe tbody tr th {\n",
       "        vertical-align: top;\n",
       "    }\n",
       "\n",
       "    .dataframe thead th {\n",
       "        text-align: right;\n",
       "    }\n",
       "</style>\n",
       "<table border=\"1\" class=\"dataframe\">\n",
       "  <thead>\n",
       "    <tr style=\"text-align: right;\">\n",
       "      <th></th>\n",
       "      <th>county_desc</th>\n",
       "      <th>election_lbl</th>\n",
       "      <th>ncid</th>\n",
       "    </tr>\n",
       "  </thead>\n",
       "  <tbody>\n",
       "    <tr>\n",
       "      <th>0</th>\n",
       "      <td>WAKE</td>\n",
       "      <td>11/06/2018</td>\n",
       "      <td>AA100110</td>\n",
       "    </tr>\n",
       "    <tr>\n",
       "      <th>1</th>\n",
       "      <td>WAKE</td>\n",
       "      <td>11/04/2014</td>\n",
       "      <td>AA100110</td>\n",
       "    </tr>\n",
       "    <tr>\n",
       "      <th>2</th>\n",
       "      <td>WAKE</td>\n",
       "      <td>11/08/2016</td>\n",
       "      <td>AA100110</td>\n",
       "    </tr>\n",
       "    <tr>\n",
       "      <th>3</th>\n",
       "      <td>WAKE</td>\n",
       "      <td>11/06/2012</td>\n",
       "      <td>AA100110</td>\n",
       "    </tr>\n",
       "    <tr>\n",
       "      <th>4</th>\n",
       "      <td>WAKE</td>\n",
       "      <td>11/02/2010</td>\n",
       "      <td>AA100110</td>\n",
       "    </tr>\n",
       "  </tbody>\n",
       "</table>\n",
       "</div>"
      ],
      "text/plain": [
       "  county_desc election_lbl      ncid\n",
       "0        WAKE   11/06/2018  AA100110\n",
       "1        WAKE   11/04/2014  AA100110\n",
       "2        WAKE   11/08/2016  AA100110\n",
       "3        WAKE   11/06/2012  AA100110\n",
       "4        WAKE   11/02/2010  AA100110"
      ]
     },
     "execution_count": 64,
     "metadata": {},
     "output_type": "execute_result"
    }
   ],
   "source": [
    "#Read file \n",
    "#dfHistWake = pd.read_csv('./data/NCSBE/ncvhis_Wake.csv')\n",
    "df = pd.read_csv('./scratch/wake_history.csv',usecols=('county_desc','election_lbl','ncid'))\n",
    "df.head()"
   ]
  },
  {
   "cell_type": "code",
   "execution_count": 65,
   "metadata": {},
   "outputs": [],
   "source": [
    "#Subset for meaningful elections\n",
    "elections = ('10/10/2017','11/07/2017','11/06/2018','11/08/2016','11/06/2012')\n",
    "dfSubset = df.loc[df.election_lbl.isin(elections),:]"
   ]
  },
  {
   "cell_type": "code",
   "execution_count": 100,
   "metadata": {},
   "outputs": [],
   "source": [
    "dfPivot = pd.pivot_table(dfSubset,\n",
    "                         columns = 'election_lbl',\n",
    "                         index = 'ncid',\n",
    "                         aggfunc = 'count',\n",
    "                         fill_value = 0\n",
    "                        ).droplevel(level=0,axis=1)"
   ]
  },
  {
   "cell_type": "code",
   "execution_count": 101,
   "metadata": {},
   "outputs": [],
   "source": [
    "#Rename columns\n",
    "dfPivot.rename({'10/10/2017':'Oct17',\n",
    "                '11/06/2012':'Nov12',\n",
    "                '11/06/2018':'Nov18',\n",
    "                '11/07/2017':'Nov17',\n",
    "                '11/08/2016':'Nov16'},\n",
    "               axis=1,inplace=True)"
   ]
  },
  {
   "cell_type": "code",
   "execution_count": 124,
   "metadata": {},
   "outputs": [],
   "source": [
    "#Filters\n",
    "e12 = dfPivot.Nov12 == 1\n",
    "e16 = dfPivot.Nov16 == 1\n",
    "e17 = (dfPivot.Oct17 == 1) | (dfPivot.Nov17 == 1)\n",
    "e18 = dfPivot.Nov18 == 1"
   ]
  },
  {
   "cell_type": "code",
   "execution_count": 128,
   "metadata": {},
   "outputs": [
    {
     "data": {
      "text/html": [
       "<div>\n",
       "<style scoped>\n",
       "    .dataframe tbody tr th:only-of-type {\n",
       "        vertical-align: middle;\n",
       "    }\n",
       "\n",
       "    .dataframe tbody tr th {\n",
       "        vertical-align: top;\n",
       "    }\n",
       "\n",
       "    .dataframe thead th {\n",
       "        text-align: right;\n",
       "    }\n",
       "</style>\n",
       "<table border=\"1\" class=\"dataframe\">\n",
       "  <thead>\n",
       "    <tr style=\"text-align: right;\">\n",
       "      <th>election_lbl</th>\n",
       "      <th>Oct17</th>\n",
       "      <th>Nov12</th>\n",
       "      <th>Nov18</th>\n",
       "      <th>Nov17</th>\n",
       "      <th>Nov16</th>\n",
       "      <th>MECE</th>\n",
       "    </tr>\n",
       "    <tr>\n",
       "      <th>ncid</th>\n",
       "      <th></th>\n",
       "      <th></th>\n",
       "      <th></th>\n",
       "      <th></th>\n",
       "      <th></th>\n",
       "      <th></th>\n",
       "    </tr>\n",
       "  </thead>\n",
       "  <tbody>\n",
       "    <tr>\n",
       "      <th>AA100110</th>\n",
       "      <td>0</td>\n",
       "      <td>1</td>\n",
       "      <td>1</td>\n",
       "      <td>0</td>\n",
       "      <td>1</td>\n",
       "      <td>2</td>\n",
       "    </tr>\n",
       "    <tr>\n",
       "      <th>AA100458</th>\n",
       "      <td>0</td>\n",
       "      <td>1</td>\n",
       "      <td>0</td>\n",
       "      <td>0</td>\n",
       "      <td>1</td>\n",
       "      <td>3</td>\n",
       "    </tr>\n",
       "    <tr>\n",
       "      <th>AA100876</th>\n",
       "      <td>0</td>\n",
       "      <td>1</td>\n",
       "      <td>0</td>\n",
       "      <td>0</td>\n",
       "      <td>0</td>\n",
       "      <td>4</td>\n",
       "    </tr>\n",
       "    <tr>\n",
       "      <th>AA100921</th>\n",
       "      <td>0</td>\n",
       "      <td>0</td>\n",
       "      <td>0</td>\n",
       "      <td>0</td>\n",
       "      <td>1</td>\n",
       "      <td>3</td>\n",
       "    </tr>\n",
       "    <tr>\n",
       "      <th>AA101032</th>\n",
       "      <td>1</td>\n",
       "      <td>1</td>\n",
       "      <td>1</td>\n",
       "      <td>1</td>\n",
       "      <td>1</td>\n",
       "      <td>1</td>\n",
       "    </tr>\n",
       "  </tbody>\n",
       "</table>\n",
       "</div>"
      ],
      "text/plain": [
       "election_lbl  Oct17  Nov12  Nov18  Nov17  Nov16  MECE\n",
       "ncid                                                 \n",
       "AA100110          0      1      1      0      1     2\n",
       "AA100458          0      1      0      0      1     3\n",
       "AA100876          0      1      0      0      0     4\n",
       "AA100921          0      0      0      0      1     3\n",
       "AA101032          1      1      1      1      1     1"
      ]
     },
     "execution_count": 128,
     "metadata": {},
     "output_type": "execute_result"
    }
   ],
   "source": [
    "dfPivot[\"MECE\"] = -1\n",
    "dfPivot.loc[e17, \"MECE\"] = 1\n",
    "dfPivot.loc[~e17 & e18, \"MECE\"] = 2\n",
    "dfPivot.loc[~e17 & ~e18 & e16, \"MECE\"] = 3\n",
    "dfPivot.loc[~e17 & ~e18 & ~e16 & e12, \"MECE\"] = 4\n",
    "dfPivot.loc[~e17 & ~e18 & ~e16 & ~e12, \"MECE\"] = 5\n",
    "dfPivot.head()"
   ]
  },
  {
   "cell_type": "code",
   "execution_count": 129,
   "metadata": {},
   "outputs": [
    {
     "data": {
      "text/html": [
       "<div>\n",
       "<style scoped>\n",
       "    .dataframe tbody tr th:only-of-type {\n",
       "        vertical-align: middle;\n",
       "    }\n",
       "\n",
       "    .dataframe tbody tr th {\n",
       "        vertical-align: top;\n",
       "    }\n",
       "\n",
       "    .dataframe thead th {\n",
       "        text-align: right;\n",
       "    }\n",
       "</style>\n",
       "<table border=\"1\" class=\"dataframe\">\n",
       "  <thead>\n",
       "    <tr style=\"text-align: right;\">\n",
       "      <th>election_lbl</th>\n",
       "      <th>Oct17</th>\n",
       "      <th>Nov12</th>\n",
       "      <th>Nov18</th>\n",
       "      <th>Nov17</th>\n",
       "      <th>Nov16</th>\n",
       "      <th>MECE</th>\n",
       "    </tr>\n",
       "    <tr>\n",
       "      <th>ncid</th>\n",
       "      <th></th>\n",
       "      <th></th>\n",
       "      <th></th>\n",
       "      <th></th>\n",
       "      <th></th>\n",
       "      <th></th>\n",
       "    </tr>\n",
       "  </thead>\n",
       "  <tbody>\n",
       "  </tbody>\n",
       "</table>\n",
       "</div>"
      ],
      "text/plain": [
       "Empty DataFrame\n",
       "Columns: [Oct17, Nov12, Nov18, Nov17, Nov16, MECE]\n",
       "Index: []"
      ]
     },
     "execution_count": 129,
     "metadata": {},
     "output_type": "execute_result"
    }
   ],
   "source": [
    "dfPivot[dfPivot.MECE < 0]"
   ]
  },
  {
   "cell_type": "code",
   "execution_count": null,
   "metadata": {},
   "outputs": [],
   "source": [
    "dfWakeDems = dfHistWake[dfHistWake.voted_party_cd == 'DEM']"
   ]
  },
  {
   "cell_type": "code",
   "execution_count": null,
   "metadata": {},
   "outputs": [],
   "source": [
    "dfVoteCount = pd.DataFrame(dfWakeDems['voter_reg_num'].value_counts()).reset_index()\n",
    "dfVoteCount.head()"
   ]
  },
  {
   "cell_type": "code",
   "execution_count": null,
   "metadata": {},
   "outputs": [],
   "source": [
    "dfVoteGeo = pd.read_csv('./data/NCSBE/ncvoter_Wake_geo.csv')\n",
    "dfVoteGeo2 = pd.merge(dfVoteGeo,dfVoteCount,how = 'right',left_on='voter_reg_num',right_on='index')"
   ]
  },
  {
   "cell_type": "code",
   "execution_count": null,
   "metadata": {},
   "outputs": [],
   "source": [
    "dfVoteGeo2.to_csv('./scratch/ncvoter_Wake_geo_count.csv')"
   ]
  }
 ],
 "metadata": {
  "kernelspec": {
   "display_name": "Python 3",
   "language": "python",
   "name": "python3"
  },
  "language_info": {
   "codemirror_mode": {
    "name": "ipython",
    "version": 3
   },
   "file_extension": ".py",
   "mimetype": "text/x-python",
   "name": "python",
   "nbconvert_exporter": "python",
   "pygments_lexer": "ipython3",
   "version": "3.6.8"
  }
 },
 "nbformat": 4,
 "nbformat_minor": 2
}
