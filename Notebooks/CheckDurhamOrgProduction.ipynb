{
 "cells": [
  {
   "cell_type": "code",
   "execution_count": 1,
   "metadata": {},
   "outputs": [],
   "source": [
    "import pandas as pd\n",
    "import geopandas as gpd"
   ]
  },
  {
   "cell_type": "code",
   "execution_count": 19,
   "metadata": {},
   "outputs": [],
   "source": [
    "majBlackFN = '../data/DURHAM/MajBlack.shp'\n",
    "keep1 = '../data/DURHAM/keep1.shp'\n",
    "clusters  = '../data/DURHAM/clusters.shp'"
   ]
  },
  {
   "cell_type": "code",
   "execution_count": 12,
   "metadata": {},
   "outputs": [],
   "source": [
    "#Read in voter data and blocks and assign a unique index\n",
    "gdfBlocks = gpd.read_file('../data/DURHAM/DURHAM_blocks.shp')\n",
    "gdfBlocks[\"OrgID\"] = 0\n",
    "#gdfVoters = gpd.read_file('../data/DURHAM/DURHAM_voter_points.shp')"
   ]
  },
  {
   "cell_type": "code",
   "execution_count": 14,
   "metadata": {},
   "outputs": [],
   "source": [
    "#Select blocks that are majority black\n",
    "gdfMajBlack = gdfBlocks.query('PctBlack >= 50')"
   ]
  },
  {
   "cell_type": "code",
   "execution_count": 32,
   "metadata": {},
   "outputs": [],
   "source": [
    "#Of those, select blocks that have at least 50 BHH, these we'll keep (1)\n",
    "gdf_Org1 = gdfMajBlack.query('BlackHH > 50').reset_index()\n",
    "gdf_Org1['OrgID'] = gdf_Org1.index + 1\n",
    "gdf_Org1['OrgType'] = 'OriginalBlock'\n",
    "#gdf_Org1.to_file(keep1)"
   ]
  },
  {
   "cell_type": "code",
   "execution_count": 10,
   "metadata": {},
   "outputs": [],
   "source": [
    "#Of those, select blocks that have fewer than 50 BHH; these we'll cluster\n",
    "gdfMajBlack_LT50 = gdfMajBlack.query('BlackHH < 50')\n",
    "#gdfMajBlack_LT50.to_file(majBlackFN)"
   ]
  },
  {
   "cell_type": "code",
   "execution_count": 26,
   "metadata": {},
   "outputs": [],
   "source": [
    "#Cluster\n",
    "gdfClusters = gpd.GeoDataFrame(geometry = list(gdfMajBlack_LT50.unary_union))\n",
    "gdfClusters['ClusterID'] = gdfClusters.index\n",
    "gdfClusters.crs = gdfMajBlack_LT50.crs\n",
    "#gdfClusters.to_file('../data/DURHAM/clusters.shp')"
   ]
  },
  {
   "cell_type": "code",
   "execution_count": 27,
   "metadata": {},
   "outputs": [],
   "source": [
    "#Spatially join the cluster ID to the original blocks\n",
    "gdfMajBlack_LT50_2 = gpd.sjoin(gdfMajBlack_LT50,gdfClusters,\n",
    "                               how='left',op='within').drop(\"index_right\",axis=1)\n",
    "#gdfMajBlack_LT50_2.to_file('../data/DURHAM/MajBlack1.shp')"
   ]
  },
  {
   "cell_type": "code",
   "execution_count": 31,
   "metadata": {},
   "outputs": [],
   "source": [
    "#Compute the total BHH for the dissolved blocks and add as block attribute\n",
    "sumBHH = gdfMajBlack_LT50_2.groupby('ClusterID').agg({'BlackHH':'sum'})\n",
    "gdfClusters_2 = pd.merge(gdfClusters,sumBHH,left_index=True,right_index=True) \n",
    "gdfClusters_2.to_file('../data/DURHAM/clusters2.shp')"
   ]
  },
  {
   "cell_type": "code",
   "execution_count": 37,
   "metadata": {},
   "outputs": [],
   "source": [
    "#Remove block clusters with fewer than 50 BHH; these are impractical\n",
    "gdfClusters_2 = gdfClusters_2.query('BlackHH >= 50')\n",
    "gdfClusters_2.to_file('../data/DURHAM/clusters2.shp')"
   ]
  },
  {
   "cell_type": "code",
   "execution_count": 38,
   "metadata": {},
   "outputs": [],
   "source": [
    "#Select clusters with fewer than 100 BHH, these we'll keep as org units(2)\n",
    "gdf_Org2 = gdfClusters_2.query('BlackHH <= 100').reset_index()\n",
    "gdf_Org2['OrgID'] = gdf_Org1['OrgID'].max() + gdf_Org2.index + 1\n",
    "gdf_Org2.to_file('../data/DURHAM/keep2.shp')"
   ]
  },
  {
   "cell_type": "code",
   "execution_count": 42,
   "metadata": {},
   "outputs": [
    {
     "data": {
      "text/plain": [
       "array([  0,   1,   2,   4,   5,   6,   7,  49,  60,  72,  73,  76,  92,\n",
       "        94,  95,  96,  99, 120, 149, 181, 186, 202, 204, 206, 214, 222, 236], dtype=int64)"
      ]
     },
     "execution_count": 42,
     "metadata": {},
     "output_type": "execute_result"
    }
   ],
   "source": [
    "#Get a list of Cluster IDs for block clusters with more than 100 BHH;\n",
    "# we'll cluster individual blocks with these IDs until BHH >= 100\n",
    "clusterIDs = gdfClusters_2.query('BlackHH > 100').ClusterID.unique()"
   ]
  },
  {
   "cell_type": "code",
   "execution_count": 56,
   "metadata": {},
   "outputs": [],
   "source": [
    "#Iterate through each clusterID\n",
    "for clusterID in clusterIDs:\n",
    "    #Get the blocks in the cluster\n",
    "    gdfBlks = gdfMajBlack_LT50_2.query('ClusterID == {}'.format(clusterID)).reset_index()\n",
    "    #Get the first block in the block cluster\n",
    "    gdfBlks['X'] = gdfBlks.geometry.centroid.x\n",
    "    gdfNbrs = gdfBlks[gdfBlks['X'] == gdfBlks['X'].min()]\n",
    "    #Get the number of BHH and the geometry\n",
    "    BHH = gdfNbrs.BlackHH.sum()\n",
    "    geom = gdfNbrs.geometry.unary_union\n",
    "    \n",
    "    #Get the blocks that touch the current geometry\n",
    "    gdfNbrs1 = gdfBlks[gdfBlks.geometry.intersects(geom)]\n",
    "    #Sort the selection on BlackHH\n",
    "    gdfNbrs1.sort_values('BlackHH',ascending=False)\n",
    "    #Add the first geometry, if aggregate BHH remains <= 100\n",
    "    for r, i in gdfNbrs1.iterrows():\n",
    "        #Skip if the sum would exceed 100 BHH\n",
    "        if r.BlackHH + BHH > 100: \n",
    "            continue\n",
    "        #Otherwise merge the BHH and the geom\n",
    "        BHH += r.BlackHH\n",
    "        geom = geom"
   ]
  }
 ],
 "metadata": {
  "kernelspec": {
   "display_name": "Python 3",
   "language": "python",
   "name": "python3"
  },
  "language_info": {
   "codemirror_mode": {
    "name": "ipython",
    "version": 3
   },
   "file_extension": ".py",
   "mimetype": "text/x-python",
   "name": "python",
   "nbconvert_exporter": "python",
   "pygments_lexer": "ipython3",
   "version": "3.6.8"
  }
 },
 "nbformat": 4,
 "nbformat_minor": 2
}
