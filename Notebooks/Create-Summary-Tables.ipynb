{
 "cells": [
  {
   "cell_type": "markdown",
   "metadata": {},
   "source": [
    "### Create Summary Tables\n",
    "July 18, 2019\n",
    "\n",
    "Code to create summary sheets from the county voting data file"
   ]
  },
  {
   "cell_type": "code",
   "execution_count": 1,
   "metadata": {},
   "outputs": [],
   "source": [
    "import geopandas as gp"
   ]
  },
  {
   "cell_type": "code",
   "execution_count": 2,
   "metadata": {},
   "outputs": [],
   "source": [
    "gdf = gp.read_file('../data/WAKE/WAKE_orgunits.shp')"
   ]
  },
  {
   "cell_type": "code",
   "execution_count": 3,
   "metadata": {},
   "outputs": [
    {
     "data": {
      "text/html": [
       "<div>\n",
       "<style scoped>\n",
       "    .dataframe tbody tr th:only-of-type {\n",
       "        vertical-align: middle;\n",
       "    }\n",
       "\n",
       "    .dataframe tbody tr th {\n",
       "        vertical-align: top;\n",
       "    }\n",
       "\n",
       "    .dataframe thead th {\n",
       "        text-align: right;\n",
       "    }\n",
       "</style>\n",
       "<table border=\"1\" class=\"dataframe\">\n",
       "  <thead>\n",
       "    <tr style=\"text-align: right;\">\n",
       "      <th></th>\n",
       "      <th>BlackHH</th>\n",
       "      <th>ClusterID</th>\n",
       "      <th>HOUSING10</th>\n",
       "      <th>OrgID</th>\n",
       "      <th>OrgType</th>\n",
       "      <th>P003001</th>\n",
       "      <th>P003003</th>\n",
       "      <th>P010001</th>\n",
       "      <th>P010004</th>\n",
       "      <th>POP10</th>\n",
       "      <th>PctBlack</th>\n",
       "      <th>PctBlack18</th>\n",
       "      <th>geometry</th>\n",
       "    </tr>\n",
       "  </thead>\n",
       "  <tbody>\n",
       "    <tr>\n",
       "      <th>0</th>\n",
       "      <td>70</td>\n",
       "      <td>NaN</td>\n",
       "      <td>118</td>\n",
       "      <td>1</td>\n",
       "      <td>OriginalBlock</td>\n",
       "      <td>357</td>\n",
       "      <td>212</td>\n",
       "      <td>225</td>\n",
       "      <td>126</td>\n",
       "      <td>357</td>\n",
       "      <td>59.383754</td>\n",
       "      <td>56.000000</td>\n",
       "      <td>POLYGON ((-78.33744 35.821984, -78.337457 35.8...</td>\n",
       "    </tr>\n",
       "    <tr>\n",
       "      <th>1</th>\n",
       "      <td>53</td>\n",
       "      <td>NaN</td>\n",
       "      <td>73</td>\n",
       "      <td>2</td>\n",
       "      <td>OriginalBlock</td>\n",
       "      <td>130</td>\n",
       "      <td>94</td>\n",
       "      <td>99</td>\n",
       "      <td>69</td>\n",
       "      <td>130</td>\n",
       "      <td>72.307692</td>\n",
       "      <td>69.696970</td>\n",
       "      <td>POLYGON ((-78.572563 35.811895, -78.572035 35....</td>\n",
       "    </tr>\n",
       "    <tr>\n",
       "      <th>2</th>\n",
       "      <td>63</td>\n",
       "      <td>NaN</td>\n",
       "      <td>120</td>\n",
       "      <td>3</td>\n",
       "      <td>OriginalBlock</td>\n",
       "      <td>134</td>\n",
       "      <td>70</td>\n",
       "      <td>125</td>\n",
       "      <td>68</td>\n",
       "      <td>134</td>\n",
       "      <td>52.238806</td>\n",
       "      <td>54.400000</td>\n",
       "      <td>POLYGON ((-78.65722199999999 35.782297, -78.65...</td>\n",
       "    </tr>\n",
       "    <tr>\n",
       "      <th>3</th>\n",
       "      <td>137</td>\n",
       "      <td>NaN</td>\n",
       "      <td>179</td>\n",
       "      <td>4</td>\n",
       "      <td>OriginalBlock</td>\n",
       "      <td>410</td>\n",
       "      <td>314</td>\n",
       "      <td>257</td>\n",
       "      <td>192</td>\n",
       "      <td>410</td>\n",
       "      <td>76.585366</td>\n",
       "      <td>74.708171</td>\n",
       "      <td>POLYGON ((-78.60934899999999 35.75329, -78.609...</td>\n",
       "    </tr>\n",
       "    <tr>\n",
       "      <th>4</th>\n",
       "      <td>59</td>\n",
       "      <td>NaN</td>\n",
       "      <td>74</td>\n",
       "      <td>5</td>\n",
       "      <td>OriginalBlock</td>\n",
       "      <td>155</td>\n",
       "      <td>123</td>\n",
       "      <td>106</td>\n",
       "      <td>80</td>\n",
       "      <td>155</td>\n",
       "      <td>79.354839</td>\n",
       "      <td>75.471698</td>\n",
       "      <td>POLYGON ((-78.65531299999999 35.87068, -78.654...</td>\n",
       "    </tr>\n",
       "  </tbody>\n",
       "</table>\n",
       "</div>"
      ],
      "text/plain": [
       "   BlackHH  ClusterID  HOUSING10  OrgID        OrgType  P003001  P003003  \\\n",
       "0       70        NaN        118      1  OriginalBlock      357      212   \n",
       "1       53        NaN         73      2  OriginalBlock      130       94   \n",
       "2       63        NaN        120      3  OriginalBlock      134       70   \n",
       "3      137        NaN        179      4  OriginalBlock      410      314   \n",
       "4       59        NaN         74      5  OriginalBlock      155      123   \n",
       "\n",
       "   P010001  P010004  POP10   PctBlack  PctBlack18  \\\n",
       "0      225      126    357  59.383754   56.000000   \n",
       "1       99       69    130  72.307692   69.696970   \n",
       "2      125       68    134  52.238806   54.400000   \n",
       "3      257      192    410  76.585366   74.708171   \n",
       "4      106       80    155  79.354839   75.471698   \n",
       "\n",
       "                                            geometry  \n",
       "0  POLYGON ((-78.33744 35.821984, -78.337457 35.8...  \n",
       "1  POLYGON ((-78.572563 35.811895, -78.572035 35....  \n",
       "2  POLYGON ((-78.65722199999999 35.782297, -78.65...  \n",
       "3  POLYGON ((-78.60934899999999 35.75329, -78.609...  \n",
       "4  POLYGON ((-78.65531299999999 35.87068, -78.654...  "
      ]
     },
     "execution_count": 3,
     "metadata": {},
     "output_type": "execute_result"
    }
   ],
   "source": [
    "gdf.head()"
   ]
  },
  {
   "cell_type": "code",
   "execution_count": 4,
   "metadata": {},
   "outputs": [
    {
     "data": {
      "text/plain": [
       "array(['OriginalBlock', 'Full block cluster', 'Partial block cluster'], dtype=object)"
      ]
     },
     "execution_count": 4,
     "metadata": {},
     "output_type": "execute_result"
    }
   ],
   "source": [
    "gdf.OrgType.unique()"
   ]
  },
  {
   "cell_type": "code",
   "execution_count": null,
   "metadata": {},
   "outputs": [],
   "source": []
  }
 ],
 "metadata": {
  "kernelspec": {
   "display_name": "Python 3",
   "language": "python",
   "name": "python3"
  },
  "language_info": {
   "codemirror_mode": {
    "name": "ipython",
    "version": 3
   },
   "file_extension": ".py",
   "mimetype": "text/x-python",
   "name": "python",
   "nbconvert_exporter": "python",
   "pygments_lexer": "ipython3",
   "version": "3.6.8"
  }
 },
 "nbformat": 4,
 "nbformat_minor": 2
}
