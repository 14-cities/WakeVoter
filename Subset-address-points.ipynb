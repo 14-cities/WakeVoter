{
 "cells": [
  {
   "cell_type": "markdown",
   "metadata": {},
   "source": [
    "# Subset address points\n",
    "Subsets addres points for Wake county from the NCSBE address file found here:\n",
    "https://dl.ncsbe.gov/index.html?prefix=ShapeFiles/\n",
    "\n"
   ]
  },
  {
   "cell_type": "code",
   "execution_count": 40,
   "metadata": {},
   "outputs": [],
   "source": [
    "import pandas as pd"
   ]
  },
  {
   "cell_type": "code",
   "execution_count": 44,
   "metadata": {},
   "outputs": [],
   "source": [
    "#Generate a list of columns from the data format file\n",
    "with open('./data/NCSBE/address_points_sboe/Shapefiles/Address_pts/address/address_points_data_format.txt','r') as colFile:\n",
    "    theText = colFile.readlines()\n",
    "columns = [theLine.split(\"\\n\")[0].split()[0] for theLine in theText[7:]]"
   ]
  },
  {
   "cell_type": "code",
   "execution_count": 45,
   "metadata": {},
   "outputs": [],
   "source": [
    "#Read in the data\n",
    "df = pd.read_csv('./data/NCSBE/address_points_sboe/Shapefiles/Address_pts/address/address_points_sboe.txt',\n",
    "                 sep='\\t',dtype='str',header=None,index_col=0,names = columns)"
   ]
  },
  {
   "cell_type": "code",
   "execution_count": 46,
   "metadata": {},
   "outputs": [],
   "source": [
    "#Extract Wake Co addresses and save\n",
    "dfWake = df[df.county == 'WAKE']\n",
    "dfWake.to_csv('./data/NCSBE/address_points_sboe/Shapefiles/Address_pts/address/address_points_wake.csv')"
   ]
  },
  {
   "cell_type": "code",
   "execution_count": null,
   "metadata": {},
   "outputs": [],
   "source": []
  }
 ],
 "metadata": {
  "kernelspec": {
   "display_name": "Python 3",
   "language": "python",
   "name": "python3"
  },
  "language_info": {
   "codemirror_mode": {
    "name": "ipython",
    "version": 3
   },
   "file_extension": ".py",
   "mimetype": "text/x-python",
   "name": "python",
   "nbconvert_exporter": "python",
   "pygments_lexer": "ipython3",
   "version": "3.6.8"
  }
 },
 "nbformat": 4,
 "nbformat_minor": 2
}
