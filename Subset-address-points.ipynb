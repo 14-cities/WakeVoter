{
 "cells": [
  {
   "cell_type": "markdown",
   "metadata": {},
   "source": [
    "# Subset address points\n",
    "Subsets addres points for Wake county from the NCSBE address file found here:\n",
    "https://dl.ncsbe.gov/index.html?prefix=ShapeFiles/\n",
    "\n"
   ]
  },
  {
   "cell_type": "code",
   "execution_count": null,
   "metadata": {},
   "outputs": [],
   "source": [
    "import pandas as pd\n",
    "import zipfile\n",
    "import requests\n",
    "import io\n",
    "import glob"
   ]
  },
  {
   "cell_type": "code",
   "execution_count": null,
   "metadata": {},
   "outputs": [],
   "source": [
    "#Set the location of the data (on-line) and where it should be saved\n",
    "fileURL = 'https://s3.amazonaws.com/dl.ncsbe.gov/ShapeFiles/address_points_sboe.zip'\n",
    "outDir = '.\\\\data\\\\NCSBE'"
   ]
  },
  {
   "cell_type": "code",
   "execution_count": null,
   "metadata": {},
   "outputs": [],
   "source": [
    "#Pull the data and unzip it. \n",
    "r = requests.get(fileURL)\n",
    "z = zipfile.ZipFile(io.BytesIO(r.content))\n",
    "z.extractall(outDir)"
   ]
  },
  {
   "cell_type": "code",
   "execution_count": null,
   "metadata": {},
   "outputs": [],
   "source": [
    "#Extract the location of the data and metadata files from the folder created above\n",
    "state_address_file = glob.glob(outDir+'/**/address_points_sboe.txt',recursive=True)[0]\n",
    "state_address_metadata = glob.glob(outDir+'/**/address_points_data_format.txt',recursive=True)[0]\n",
    "state_address_file"
   ]
  },
  {
   "cell_type": "code",
   "execution_count": null,
   "metadata": {},
   "outputs": [],
   "source": [
    "#Generate a list of columns from the data format file\n",
    "with open(state_address_metadata,'r') as colFile:\n",
    "    theText = colFile.readlines()\n",
    "    columns = [theLine.split(\"\\n\")[0].split()[0] for theLine in theText[7:]]\n",
    "print(columns)"
   ]
  },
  {
   "cell_type": "code",
   "execution_count": null,
   "metadata": {},
   "outputs": [],
   "source": [
    "#Read in the data, using the metadata to supply column names\n",
    "df = pd.read_csv(state_address_file,sep='\\t',dtype='str',header=None,index_col=0,names = columns)\n",
    "df.head()"
   ]
  },
  {
   "cell_type": "code",
   "execution_count": null,
   "metadata": {},
   "outputs": [],
   "source": [
    "#Extract Wake Co addresses and save\n",
    "outFilename = state_address_file.replace('sboe.txt','wake.csv')\n",
    "dfWake = df[df.county == 'WAKE']\n",
    "dfWake.to_csv(outFilename,index=False)"
   ]
  }
 ],
 "metadata": {
  "kernelspec": {
   "display_name": "Python 3",
   "language": "python",
   "name": "python3"
  },
  "language_info": {
   "codemirror_mode": {
    "name": "ipython",
    "version": 3
   },
   "file_extension": ".py",
   "mimetype": "text/x-python",
   "name": "python",
   "nbconvert_exporter": "python",
   "pygments_lexer": "ipython3",
   "version": "3.6.8"
  }
 },
 "nbformat": 4,
 "nbformat_minor": 2
}
