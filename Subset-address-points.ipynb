{
 "cells": [
  {
   "cell_type": "markdown",
   "metadata": {},
   "source": [
    "# Subset address points\n",
    "Subsets addres points for Wake county from the NCSBE address file found here:\n",
    "https://dl.ncsbe.gov/index.html?prefix=ShapeFiles/\n",
    "\n"
   ]
  },
  {
   "cell_type": "code",
   "execution_count": 1,
   "metadata": {},
   "outputs": [],
   "source": [
    "import pandas as pd\n",
    "import zipfile\n",
    "import requests\n",
    "import io\n",
    "import glob"
   ]
  },
  {
   "cell_type": "code",
   "execution_count": 8,
   "metadata": {},
   "outputs": [],
   "source": [
    "fileURL = 'https://s3.amazonaws.com/dl.ncsbe.gov/ShapeFiles/address_points_sboe.zip'\n",
    "outDir = '.\\\\data\\\\NCSBE'"
   ]
  },
  {
   "cell_type": "code",
   "execution_count": 31,
   "metadata": {},
   "outputs": [
    {
     "name": "stdout",
     "output_type": "stream",
     "text": [
      "24.6 s ± 9.31 s per loop (mean ± std. dev. of 7 runs, 1 loop each)\n"
     ]
    }
   ],
   "source": [
    "r = requests.get(fileURL)\n",
    "z = zipfile.ZipFile(io.BytesIO(r.content))\n",
    "z.extractall(outDir)"
   ]
  },
  {
   "cell_type": "code",
   "execution_count": 9,
   "metadata": {},
   "outputs": [
    {
     "data": {
      "text/plain": [
       "'.\\\\data\\\\NCSBE\\\\address_points_sboe\\\\Shapefiles\\\\Address_pts\\\\address\\\\address_points_sboe.txt'"
      ]
     },
     "execution_count": 9,
     "metadata": {},
     "output_type": "execute_result"
    }
   ],
   "source": [
    "state_address_file = glob.glob(outDir+'/**/address_points_sboe.txt',recursive=True)[0]\n",
    "state_address_file"
   ]
  },
  {
   "cell_type": "code",
   "execution_count": 10,
   "metadata": {},
   "outputs": [],
   "source": [
    "#Generate a list of columns from the data format file\n",
    "with open(state_address_file,'r') as colFile:\n",
    "    theText = colFile.readlines()\n",
    "    columns = [theLine.split(\"\\n\")[0].split()[0] for theLine in theText[7:]]"
   ]
  },
  {
   "cell_type": "code",
   "execution_count": null,
   "metadata": {},
   "outputs": [],
   "source": [
    "#Read in the data\n",
    "df = pd.read_csv(state_address_file,sep='\\t',dtype='str',header=None,index_col=0,names = columns)"
   ]
  },
  {
   "cell_type": "code",
   "execution_count": 46,
   "metadata": {},
   "outputs": [],
   "source": [
    "#Extract Wake Co addresses and save\n",
    "dfWake = df[df.county == 'WAKE']\n",
    "dfWake.to_csv('./data/NCSBE/address_points_sboe/Shapefiles/Address_pts/address/address_points_wake.csv')"
   ]
  },
  {
   "cell_type": "code",
   "execution_count": 2,
   "metadata": {},
   "outputs": [],
   "source": [
    "?zip"
   ]
  }
 ],
 "metadata": {
  "kernelspec": {
   "display_name": "Python 3",
   "language": "python",
   "name": "python3"
  },
  "language_info": {
   "codemirror_mode": {
    "name": "ipython",
    "version": 3
   },
   "file_extension": ".py",
   "mimetype": "text/x-python",
   "name": "python",
   "nbconvert_exporter": "python",
   "pygments_lexer": "ipython3",
   "version": "3.6.8"
  }
 },
 "nbformat": 4,
 "nbformat_minor": 2
}
