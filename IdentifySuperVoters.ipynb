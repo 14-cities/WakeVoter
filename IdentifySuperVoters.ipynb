{
 "cells": [
  {
   "cell_type": "markdown",
   "metadata": {},
   "source": [
    "# Identify Super Voters\n",
    "Extracts voter history data for a selected county (Wake) and tallies the number of time each DEM voter (\"voter_reg_num\") has voted, i.e. the number of counts. These voters are gjoi"
   ]
  },
  {
   "cell_type": "code",
   "execution_count": 1,
   "metadata": {},
   "outputs": [],
   "source": [
    "import pandas as pd"
   ]
  },
  {
   "cell_type": "code",
   "execution_count": 14,
   "metadata": {},
   "outputs": [],
   "source": [
    "#Get the voter history data and save to wake co file\n",
    "def saveCountyData(county='WAKE'):\n",
    "    print(\"Reading data\")\n",
    "    dfHist = pd.read_csv('./data/NCSBE/ncvhis_Statewide.txt',sep='\\t',\n",
    "                         usecols=['county_desc','voter_reg_num','voted_party_cd','vtd_label']\n",
    "                        )\n",
    "    print(\"Extracting county data\")\n",
    "    dfHistWake = dfHist[dfHist.county_desc == county]\n",
    "    print(\"Saving to file\")\n",
    "    dfHistWake.to_csv('./data/NCSBE/ncvhis_{}.csv'.format(county),index=False)\n",
    "    return dfHistWake"
   ]
  },
  {
   "cell_type": "code",
   "execution_count": null,
   "metadata": {},
   "outputs": [],
   "source": [
    "#Read file \n",
    "dfHistWake = pd.read_csv('./data/NCSBE/ncvhis_Wake.csv')"
   ]
  },
  {
   "cell_type": "code",
   "execution_count": 17,
   "metadata": {},
   "outputs": [],
   "source": [
    "dfWakeDems = dfHistWake[dfHistWake.voted_party_cd == 'DEM']"
   ]
  },
  {
   "cell_type": "code",
   "execution_count": 27,
   "metadata": {},
   "outputs": [
    {
     "data": {
      "text/html": [
       "<div>\n",
       "<style scoped>\n",
       "    .dataframe tbody tr th:only-of-type {\n",
       "        vertical-align: middle;\n",
       "    }\n",
       "\n",
       "    .dataframe tbody tr th {\n",
       "        vertical-align: top;\n",
       "    }\n",
       "\n",
       "    .dataframe thead th {\n",
       "        text-align: right;\n",
       "    }\n",
       "</style>\n",
       "<table border=\"1\" class=\"dataframe\">\n",
       "  <thead>\n",
       "    <tr style=\"text-align: right;\">\n",
       "      <th></th>\n",
       "      <th>index</th>\n",
       "      <th>voter_reg_num</th>\n",
       "    </tr>\n",
       "  </thead>\n",
       "  <tbody>\n",
       "    <tr>\n",
       "      <th>0</th>\n",
       "      <td>100402899</td>\n",
       "      <td>24</td>\n",
       "    </tr>\n",
       "    <tr>\n",
       "      <th>1</th>\n",
       "      <td>100489034</td>\n",
       "      <td>23</td>\n",
       "    </tr>\n",
       "    <tr>\n",
       "      <th>2</th>\n",
       "      <td>100554272</td>\n",
       "      <td>23</td>\n",
       "    </tr>\n",
       "    <tr>\n",
       "      <th>3</th>\n",
       "      <td>100393491</td>\n",
       "      <td>22</td>\n",
       "    </tr>\n",
       "    <tr>\n",
       "      <th>4</th>\n",
       "      <td>100390426</td>\n",
       "      <td>22</td>\n",
       "    </tr>\n",
       "  </tbody>\n",
       "</table>\n",
       "</div>"
      ],
      "text/plain": [
       "       index  voter_reg_num\n",
       "0  100402899             24\n",
       "1  100489034             23\n",
       "2  100554272             23\n",
       "3  100393491             22\n",
       "4  100390426             22"
      ]
     },
     "execution_count": 27,
     "metadata": {},
     "output_type": "execute_result"
    }
   ],
   "source": [
    "dfVoteCount = pd.DataFrame(dfWakeDems['voter_reg_num'].value_counts()).reset_index()\n",
    "dfVoteCount.head()"
   ]
  },
  {
   "cell_type": "code",
   "execution_count": 32,
   "metadata": {},
   "outputs": [],
   "source": [
    "dfVoteGeo = pd.read_csv('./data/NCSBE/ncvoter_Wake_geo.csv')\n",
    "dfVoteGeo2 = pd.merge(dfVoteGeo,dfVoteCount,how = 'right',left_on='voter_reg_num',right_on='index')"
   ]
  },
  {
   "cell_type": "code",
   "execution_count": 33,
   "metadata": {},
   "outputs": [],
   "source": [
    "dfVoteGeo2.to_csv('./scratch/ncvoter_Wake_geo_count.csv')"
   ]
  }
 ],
 "metadata": {
  "kernelspec": {
   "display_name": "Python 3",
   "language": "python",
   "name": "python3"
  },
  "language_info": {
   "codemirror_mode": {
    "name": "ipython",
    "version": 3
   },
   "file_extension": ".py",
   "mimetype": "text/x-python",
   "name": "python",
   "nbconvert_exporter": "python",
   "pygments_lexer": "ipython3",
   "version": "3.6.8"
  }
 },
 "nbformat": 4,
 "nbformat_minor": 2
}
