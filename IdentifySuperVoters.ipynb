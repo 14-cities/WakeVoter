{
 "cells": [
  {
   "cell_type": "markdown",
   "metadata": {},
   "source": [
    "# Identify Super Voters\n",
    "Extracts voter history data for a selected county (Wake) and tallies the number of time each DEM voter (\"voter_reg_num\") has voted, i.e. the number of counts. These voters are gjoi"
   ]
  },
  {
   "cell_type": "code",
   "execution_count": null,
   "metadata": {},
   "outputs": [],
   "source": [
    "import pandas as pd"
   ]
  },
  {
   "cell_type": "code",
   "execution_count": null,
   "metadata": {},
   "outputs": [],
   "source": [
    "#Explore the data\n",
    "dfSample = pd.read_csv('./data/NCSBE/ncvhis_Statewide.txt',sep='\\t',nrows=10)\n",
    "dfSample.head()"
   ]
  },
  {
   "cell_type": "code",
   "execution_count": null,
   "metadata": {},
   "outputs": [],
   "source": [
    "#Get the voter history data and save to wake co file\n",
    "def saveCountyData(county='WAKE'):\n",
    "    print(\"Reading data\")\n",
    "    dfHist = pd.read_csv('./data/NCSBE/ncvhis_Statewide.txt',sep='\\t',\n",
    "                         usecols=['county_desc','voter_reg_num','voted_party_cd','vtd_label']\n",
    "                        )\n",
    "    print(\"Extracting county data\")\n",
    "    dfHistWake = dfHist[dfHist.county_desc == county]\n",
    "    print(\"Saving to file\")\n",
    "    dfHistWake.to_csv('./data/NCSBE/ncvhis_{}.csv'.format(county),index=False)\n",
    "    return dfHistWake"
   ]
  },
  {
   "cell_type": "code",
   "execution_count": null,
   "metadata": {},
   "outputs": [],
   "source": [
    "#Read file \n",
    "dfHistWake = pd.read_csv('./data/NCSBE/ncvhis_Wake.csv')"
   ]
  },
  {
   "cell_type": "code",
   "execution_count": null,
   "metadata": {},
   "outputs": [],
   "source": [
    "dfWakeDems = dfHistWake[dfHistWake.voted_party_cd == 'DEM']"
   ]
  },
  {
   "cell_type": "code",
   "execution_count": null,
   "metadata": {},
   "outputs": [],
   "source": [
    "dfVoteCount = pd.DataFrame(dfWakeDems['voter_reg_num'].value_counts()).reset_index()\n",
    "dfVoteCount.head()"
   ]
  },
  {
   "cell_type": "code",
   "execution_count": null,
   "metadata": {},
   "outputs": [],
   "source": [
    "dfVoteGeo = pd.read_csv('./data/NCSBE/ncvoter_Wake_geo.csv')\n",
    "dfVoteGeo2 = pd.merge(dfVoteGeo,dfVoteCount,how = 'right',left_on='voter_reg_num',right_on='index')"
   ]
  },
  {
   "cell_type": "code",
   "execution_count": null,
   "metadata": {},
   "outputs": [],
   "source": [
    "dfVoteGeo2.to_csv('./scratch/ncvoter_Wake_geo_count.csv')"
   ]
  }
 ],
 "metadata": {
  "kernelspec": {
   "display_name": "Python 3",
   "language": "python",
   "name": "python3"
  },
  "language_info": {
   "codemirror_mode": {
    "name": "ipython",
    "version": 3
   },
   "file_extension": ".py",
   "mimetype": "text/x-python",
   "name": "python",
   "nbconvert_exporter": "python",
   "pygments_lexer": "ipython3",
   "version": "3.6.8"
  }
 },
 "nbformat": 4,
 "nbformat_minor": 2
}
