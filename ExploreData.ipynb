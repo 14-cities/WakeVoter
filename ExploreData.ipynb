{
 "cells": [
  {
   "cell_type": "markdown",
   "metadata": {},
   "source": [
    "https://geocoding.geo.census.gov/geocoder/Geocoding_Services_API.pdf"
   ]
  },
  {
   "cell_type": "code",
   "execution_count": 1,
   "metadata": {},
   "outputs": [],
   "source": [
    "import pandas as pd\n",
    "import requests"
   ]
  },
  {
   "cell_type": "code",
   "execution_count": 2,
   "metadata": {},
   "outputs": [],
   "source": [
    "#Read the VF file into a dataframe\n",
    "dfV = pd.read_csv('./data/NC-County-Wake-VF.csv')"
   ]
  },
  {
   "cell_type": "code",
   "execution_count": 20,
   "metadata": {},
   "outputs": [],
   "source": [
    "#Create a function that will invoke the CENSUS API to return coordinates for an address\n",
    "def getCoord(address):\n",
    "    #Form the request\n",
    "    censusURL = 'http://geocoding.geo.census.gov/geocoder/locations/onelineaddress'\n",
    "    params = {'benchmark':'9',#'returntype':'locations',\n",
    "          'address':address,\n",
    "          'format':'json',\n",
    "         } \n",
    "    #Send the request\n",
    "    response = requests.get(censusURL, params)\n",
    "    #Read in the response as a JSON encoded object\n",
    "    jsonObj = response.json()\n",
    "    addresses = jsonObj['result']['addressMatches']\n",
    "    #If no valid addresses are returned, send coordinates of (-1,-1)\n",
    "    if len(addresses)== 0:\n",
    "        print(\"X\",end='')\n",
    "        return((-1,-1))\n",
    "    #Otherswise return the coordinate\n",
    "    else:\n",
    "        print(\".\",end='')\n",
    "        coords = addresses[0]['coordinates']\n",
    "        lat = float(coords['y'])\n",
    "        lng = float(coords['x'])\n",
    "        #Log results\n",
    "        with open(\"Log.csv\",'a') as fObj: \n",
    "            fObj.write(\"{},{},{}\\n\".format(address,lat,lng))\n",
    "        #Return the coordinate pair for the address\n",
    "        return(lat, lng)"
   ]
  },
  {
   "cell_type": "code",
   "execution_count": 21,
   "metadata": {},
   "outputs": [],
   "source": [
    "#Create an address column\n",
    "dfV['address'] = (dfV['address1__registered_address'] + \" \" \n",
    "                  + dfV['city__registered_address'] + \" \" \n",
    "                  + dfV['state__registered_address'] + \" \"\n",
    "                  + dfV['zip__registered_address'].astype(str))"
   ]
  },
  {
   "cell_type": "code",
   "execution_count": 22,
   "metadata": {},
   "outputs": [
    {
     "name": "stdout",
     "output_type": "stream",
     "text": [
      "X.X...............X."
     ]
    }
   ],
   "source": [
    "#Convert address to coordinates\n",
    "dfV['coords'] = dfV['address'].apply(lambda x: getCoord(x))"
   ]
  },
  {
   "cell_type": "code",
   "execution_count": 6,
   "metadata": {},
   "outputs": [],
   "source": [
    "#Write the results\n",
    "dfV.to_csv('./data/NC-County-Wake-VF_coords.csv',index=False)"
   ]
  }
 ],
 "metadata": {
  "kernelspec": {
   "display_name": "Python 3",
   "language": "python",
   "name": "python3"
  },
  "language_info": {
   "codemirror_mode": {
    "name": "ipython",
    "version": 3
   },
   "file_extension": ".py",
   "mimetype": "text/x-python",
   "name": "python",
   "nbconvert_exporter": "python",
   "pygments_lexer": "ipython3",
   "version": "3.6.6"
  }
 },
 "nbformat": 4,
 "nbformat_minor": 2
}
