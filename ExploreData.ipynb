{
 "cells": [
  {
   "cell_type": "markdown",
   "metadata": {},
   "source": [
    "https://geocoding.geo.census.gov/geocoder/Geocoding_Services_API.pdf"
   ]
  },
  {
   "cell_type": "code",
   "execution_count": 24,
   "metadata": {},
   "outputs": [],
   "source": [
    "import pandas as pd\n",
    "import requests"
   ]
  },
  {
   "cell_type": "code",
   "execution_count": 85,
   "metadata": {},
   "outputs": [],
   "source": [
    "dfV = pd.read_csv('./data/NC-County-Wake-VF.csv',nrows=10)"
   ]
  },
  {
   "cell_type": "code",
   "execution_count": 75,
   "metadata": {},
   "outputs": [],
   "source": [
    "#Create a function that will invoke the OSM API to return coordinates for an address\n",
    "def getCoordOrig(street,city,state,zipcode):\n",
    "    #Form the address\n",
    "    address = \"{0} {1} {2} {3}\".format(street,city,state,zipcode)\n",
    "    #Form the request\n",
    "    censusURL = 'http://geocoding.geo.census.gov/geocoder/locations/onelineaddress'\n",
    "    params = {'benchmark':'9',#'returntype':'locations',\n",
    "          'address':address,\n",
    "          'format':'json',\n",
    "         } \n",
    "    #Send the request\n",
    "    response = requests.get(censusURL, params)\n",
    "    #Read in the response as a JSON encoded object\n",
    "    jsonObj = response.json()\n",
    "    coords = jsonObj['result']['addressMatches'][0]['coordinates']\n",
    "    lat = float(coords['y'])\n",
    "    lng = float(coords['x'])\n",
    "    #Return the coordinate pair for the address\n",
    "    return(lat, lng)"
   ]
  },
  {
   "cell_type": "code",
   "execution_count": 110,
   "metadata": {},
   "outputs": [],
   "source": [
    "#Create a function that will invoke the OSM API to return coordinates for an address\n",
    "def getCoord(address):\n",
    "    #Form the request\n",
    "    censusURL = 'http://geocoding.geo.census.gov/geocoder/locations/onelineaddress'\n",
    "    params = {'benchmark':'9',#'returntype':'locations',\n",
    "          'address':address,\n",
    "          'format':'json',\n",
    "         } \n",
    "    #Send the request\n",
    "    response = requests.get(censusURL, params)\n",
    "    #Read in the response as a JSON encoded object\n",
    "    jsonObj = response.json()\n",
    "    addresses = jsonObj['result']['addressMatches']\n",
    "    print (len(addresses))\n",
    "    if len(addresses)== 0:\n",
    "        return((-1,-1))\n",
    "    coords = addresses[0]['coordinates']\n",
    "    lat = float(coords['y'])\n",
    "    lng = float(coords['x'])\n",
    "    #Return the coordinate pair for the address\n",
    "    return(lat, lng)"
   ]
  },
  {
   "cell_type": "code",
   "execution_count": 88,
   "metadata": {},
   "outputs": [
    {
     "data": {
      "text/plain": [
       "'100 Draymore Way Cary 27519 NC'"
      ]
     },
     "execution_count": 88,
     "metadata": {},
     "output_type": "execute_result"
    }
   ],
   "source": [
    "address = (\"{} {} {} {}\").format(*dfV.iloc[0,[17,19,20,21]].values.tolist())\n",
    "address"
   ]
  },
  {
   "cell_type": "code",
   "execution_count": 109,
   "metadata": {},
   "outputs": [],
   "source": [
    "#Create an address column\n",
    "dfV['address'] = (dfV['address1__registered_address'] + \" \" \n",
    "                  + dfV['city__registered_address'] + \" \" \n",
    "                  + dfV['state__registered_address'] + \" \"\n",
    "                  + dfV['zip__registered_address'].astype(str))"
   ]
  },
  {
   "cell_type": "code",
   "execution_count": 111,
   "metadata": {},
   "outputs": [
    {
     "name": "stdout",
     "output_type": "stream",
     "text": [
      "0\n",
      "1\n",
      "0\n",
      "1\n",
      "1\n",
      "1\n",
      "1\n",
      "1\n",
      "1\n",
      "1\n"
     ]
    }
   ],
   "source": [
    "#Convert address to coordinates\n",
    "dfV['coords'] = dfV['address'].apply(lambda x: getCoord(x))"
   ]
  },
  {
   "cell_type": "code",
   "execution_count": 113,
   "metadata": {},
   "outputs": [
    {
     "data": {
      "text/plain": [
       "state_file_id                                               AA100458\n",
       "registered_at                                             2011-06-20\n",
       "first_name                                                     Nikki\n",
       "middle_name                                                    Minor\n",
       "last_name                                                        Tew\n",
       "suffix                                                           NaN\n",
       "demo                                                               W\n",
       "dob                                                       1976-01-01\n",
       "sex                                                                F\n",
       "email_opt_in                                                       f\n",
       "phone                                                            NaN\n",
       "federal_donotcall                                                  f\n",
       "is_absentee_voter                                                  f\n",
       "is_active_voter                                                    t\n",
       "is_early_voter                                                     f\n",
       "is_permanent_absentee_voter                                        f\n",
       "party                                                              R\n",
       "address1__registered_address                         8417 Ashwood Dr\n",
       "address2__registered_address                                     NaN\n",
       "city__registered_address                                     Raleigh\n",
       "zip__registered_address                                        27603\n",
       "state__registered_address                                         NC\n",
       "county__registered_address                                      Wake\n",
       "fips__registered_address                                       37183\n",
       "country_code__registered_address                                  US\n",
       "address1__mailing_address                            8417 Ashwood Dr\n",
       "address2__mailing_address                                        NaN\n",
       "address3__mailing_address                                        NaN\n",
       "city__mailing_address                                        Raleigh\n",
       "zip__mailing_address                                           27603\n",
       "state__mailing_address                                            NC\n",
       "country_code__mailing_address                                    NaN\n",
       "federal_district                                                   2\n",
       "state_upper_district                                              18\n",
       "state_lower_district                                              39\n",
       "judicial_district                                                 10\n",
       "county_district                                               WAKE-2\n",
       "fire_district                                                    NaN\n",
       "township                                                         NaN\n",
       "city_district                                         UNINCORPORATED\n",
       "city_sub_district                                                NaN\n",
       "school_district                                               WAKE-2\n",
       "precinct_code                                       37183-WAKE-15_04\n",
       "address                             8417 Ashwood Dr Raleigh NC 27603\n",
       "coords                                        (35.646633, -78.63626)\n",
       "Name: 1, dtype: object"
      ]
     },
     "execution_count": 113,
     "metadata": {},
     "output_type": "execute_result"
    }
   ],
   "source": [
    "dfV.iloc[1]"
   ]
  },
  {
   "cell_type": "code",
   "execution_count": 28,
   "metadata": {},
   "outputs": [
    {
     "data": {
      "text/plain": [
       "['8417 Ashwood Dr', 'Raleigh', 'NC', 27603]"
      ]
     },
     "execution_count": 28,
     "metadata": {},
     "output_type": "execute_result"
    }
   ],
   "source": [
    "scsv = dfV.iloc[1][['address1__registered_address',\n",
    "                    'city__registered_address',\n",
    "                    'state__mailing_address',\n",
    "                    'zip__registered_address']].values.tolist()\n",
    "scsv"
   ]
  },
  {
   "cell_type": "code",
   "execution_count": 76,
   "metadata": {},
   "outputs": [
    {
     "name": "stdout",
     "output_type": "stream",
     "text": [
      "(35.886333, -78.622795)\n"
     ]
    }
   ],
   "source": [
    "coord = getCoord(street=scsv[0],city=scsv[1],state=scsv[2],zipcode=scsv[3])\n",
    "print(coord)"
   ]
  },
  {
   "cell_type": "code",
   "execution_count": 66,
   "metadata": {},
   "outputs": [],
   "source": [
    "address = \"{0} {1} {2} {3}\".format(*scsv)\n",
    "osmURL = 'http://nominatim.openstreetmap.org/search'\n",
    "censusURL = 'http://geocoding.geo.census.gov/geocoder/locations/onelineaddress'\n",
    "params = {'benchmark':'9',#'returntype':'locations',\n",
    "          'address':address,\n",
    "          'format':'json',\n",
    "         }"
   ]
  },
  {
   "cell_type": "code",
   "execution_count": 67,
   "metadata": {},
   "outputs": [
    {
     "data": {
      "text/plain": [
       "'https://geocoding.geo.census.gov/geocoder/locations/onelineaddress?benchmark=9&address=1110+Plateau+Ln+Raleigh+NC+27615&format=json'"
      ]
     },
     "execution_count": 67,
     "metadata": {},
     "output_type": "execute_result"
    }
   ],
   "source": [
    "response = requests.get(censusURL, params)\n",
    "response.url"
   ]
  },
  {
   "cell_type": "code",
   "execution_count": 74,
   "metadata": {},
   "outputs": [
    {
     "data": {
      "text/plain": [
       "(-78.622795, 35.886333)"
      ]
     },
     "execution_count": 74,
     "metadata": {},
     "output_type": "execute_result"
    }
   ],
   "source": [
    "jsonObj = response.json()\n",
    "coords = jsonObj['result']['addressMatches'][0]['coordinates']\n",
    "(x,y) = coords.values()\n",
    "x,y"
   ]
  },
  {
   "cell_type": "code",
   "execution_count": 54,
   "metadata": {},
   "outputs": [
    {
     "data": {
      "text/plain": [
       "'https://geocoding.geo.census.gov/geocoder/locations/address?format=json&q=1110+Plateau+Ln+Raleigh+NC+27615'"
      ]
     },
     "execution_count": 54,
     "metadata": {},
     "output_type": "execute_result"
    }
   ],
   "source": [
    "response.url"
   ]
  },
  {
   "cell_type": "code",
   "execution_count": 25,
   "metadata": {},
   "outputs": [
    {
     "ename": "IndexError",
     "evalue": "list index out of range",
     "output_type": "error",
     "traceback": [
      "\u001b[1;31m---------------------------------------------------------------------------\u001b[0m",
      "\u001b[1;31mIndexError\u001b[0m                                Traceback (most recent call last)",
      "\u001b[1;32m<ipython-input-25-bec302e33053>\u001b[0m in \u001b[0;36m<module>\u001b[1;34m\u001b[0m\n\u001b[1;32m----> 1\u001b[1;33m \u001b[0mll\u001b[0m \u001b[1;33m=\u001b[0m \u001b[0mgetCoord\u001b[0m\u001b[1;33m(\u001b[0m\u001b[0mstreet\u001b[0m\u001b[1;33m=\u001b[0m\u001b[0mscsv\u001b[0m\u001b[1;33m[\u001b[0m\u001b[1;36m0\u001b[0m\u001b[1;33m]\u001b[0m\u001b[1;33m,\u001b[0m\u001b[0mcity\u001b[0m\u001b[1;33m=\u001b[0m\u001b[0mscsv\u001b[0m\u001b[1;33m[\u001b[0m\u001b[1;36m1\u001b[0m\u001b[1;33m]\u001b[0m\u001b[1;33m,\u001b[0m\u001b[0mstate\u001b[0m\u001b[1;33m=\u001b[0m\u001b[0mscsv\u001b[0m\u001b[1;33m[\u001b[0m\u001b[1;36m2\u001b[0m\u001b[1;33m]\u001b[0m\u001b[1;33m,\u001b[0m\u001b[0mzipcode\u001b[0m\u001b[1;33m=\u001b[0m\u001b[0mscsv\u001b[0m\u001b[1;33m[\u001b[0m\u001b[1;36m3\u001b[0m\u001b[1;33m]\u001b[0m\u001b[1;33m)\u001b[0m\u001b[1;33m\u001b[0m\u001b[0m\n\u001b[0m",
      "\u001b[1;32m<ipython-input-21-5778bba067a8>\u001b[0m in \u001b[0;36mgetCoord\u001b[1;34m(street, city, state, zipcode)\u001b[0m\n\u001b[0;32m     10\u001b[0m     \u001b[1;31m#Read in the response as a JSON encoded object\u001b[0m\u001b[1;33m\u001b[0m\u001b[1;33m\u001b[0m\u001b[0m\n\u001b[0;32m     11\u001b[0m     \u001b[0mjsonObj\u001b[0m \u001b[1;33m=\u001b[0m \u001b[0mresponse\u001b[0m\u001b[1;33m.\u001b[0m\u001b[0mjson\u001b[0m\u001b[1;33m(\u001b[0m\u001b[1;33m)\u001b[0m\u001b[1;33m\u001b[0m\u001b[0m\n\u001b[1;32m---> 12\u001b[1;33m     \u001b[0md\u001b[0m \u001b[1;33m=\u001b[0m \u001b[0mjsonObj\u001b[0m\u001b[1;33m[\u001b[0m\u001b[1;36m0\u001b[0m\u001b[1;33m]\u001b[0m\u001b[1;33m\u001b[0m\u001b[0m\n\u001b[0m\u001b[0;32m     13\u001b[0m     \u001b[0mlat\u001b[0m \u001b[1;33m=\u001b[0m \u001b[0mfloat\u001b[0m\u001b[1;33m(\u001b[0m\u001b[0md\u001b[0m\u001b[1;33m[\u001b[0m\u001b[1;34m'lat'\u001b[0m\u001b[1;33m]\u001b[0m\u001b[1;33m)\u001b[0m\u001b[1;33m\u001b[0m\u001b[0m\n\u001b[0;32m     14\u001b[0m     \u001b[0mlng\u001b[0m \u001b[1;33m=\u001b[0m \u001b[0mfloat\u001b[0m\u001b[1;33m(\u001b[0m\u001b[0md\u001b[0m\u001b[1;33m[\u001b[0m\u001b[1;34m'lon'\u001b[0m\u001b[1;33m]\u001b[0m\u001b[1;33m)\u001b[0m\u001b[1;33m\u001b[0m\u001b[0m\n",
      "\u001b[1;31mIndexError\u001b[0m: list index out of range"
     ]
    }
   ],
   "source": [
    "coord = getCoord(street=scsv[0],city=scsv[1],state=scsv[2],zipcode=scsv[3])\n",
    "print(coord)"
   ]
  },
  {
   "cell_type": "code",
   "execution_count": 26,
   "metadata": {},
   "outputs": [
    {
     "ename": "NameError",
     "evalue": "name 'll' is not defined",
     "output_type": "error",
     "traceback": [
      "\u001b[1;31m---------------------------------------------------------------------------\u001b[0m",
      "\u001b[1;31mNameError\u001b[0m                                 Traceback (most recent call last)",
      "\u001b[1;32m<ipython-input-26-bc264e3867d3>\u001b[0m in \u001b[0;36m<module>\u001b[1;34m\u001b[0m\n\u001b[1;32m----> 1\u001b[1;33m \u001b[0mll\u001b[0m\u001b[1;33m\u001b[0m\u001b[0m\n\u001b[0m",
      "\u001b[1;31mNameError\u001b[0m: name 'll' is not defined"
     ]
    }
   ],
   "source": [
    "ll"
   ]
  }
 ],
 "metadata": {
  "kernelspec": {
   "display_name": "Python 3",
   "language": "python",
   "name": "python3"
  },
  "language_info": {
   "codemirror_mode": {
    "name": "ipython",
    "version": 3
   },
   "file_extension": ".py",
   "mimetype": "text/x-python",
   "name": "python",
   "nbconvert_exporter": "python",
   "pygments_lexer": "ipython3",
   "version": "3.6.6"
  }
 },
 "nbformat": 4,
 "nbformat_minor": 2
}
