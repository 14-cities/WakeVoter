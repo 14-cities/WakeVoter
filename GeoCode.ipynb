{
 "cells": [
  {
   "cell_type": "markdown",
   "metadata": {},
   "source": [
    "https://geocoding.geo.census.gov/geocoder/Geocoding_Services_API.pdf"
   ]
  },
  {
   "cell_type": "code",
   "execution_count": 39,
   "metadata": {},
   "outputs": [],
   "source": [
    "import pandas as pd\n",
    "import requests\n",
    "import re, csv"
   ]
  },
  {
   "cell_type": "code",
   "execution_count": 6,
   "metadata": {},
   "outputs": [],
   "source": [
    "dfAll = pd.read_csv('./data/NCSBE/ncvoter_Wake.zip')\n",
    "numRecs = dfAll.shape[0]"
   ]
  },
  {
   "cell_type": "code",
   "execution_count": null,
   "metadata": {},
   "outputs": [],
   "source": [
    "fromID = 0\n",
    "toID = 0+100\n",
    "address_set = dfAll.iloc[fromID:toID,2:-1].dropna(how='any')"
   ]
  },
  {
   "cell_type": "code",
   "execution_count": 10,
   "metadata": {},
   "outputs": [],
   "source": [
    "address_set.to_csv('Addresses.csv'.format(fromID),index=True,header=False)"
   ]
  },
  {
   "cell_type": "code",
   "execution_count": 4,
   "metadata": {},
   "outputs": [
    {
     "data": {
      "text/plain": [
       "array(['27604', '28412', '27518', ..., '275021058', '90069', '286077742'], dtype=object)"
      ]
     },
     "execution_count": 4,
     "metadata": {},
     "output_type": "execute_result"
    }
   ],
   "source": [
    "#census curl --form addressFile=@localfile.csv --form  benchmark=9\n",
    "theURL = 'https://geocoding.geo.census.gov/geocoder/locations/addressbatch --output geocoderesult.csv'\n",
    "command = 'curl --form addressFile=@localfile.csv --form  benchmark=9'"
   ]
  },
  {
   "cell_type": "code",
   "execution_count": 28,
   "metadata": {},
   "outputs": [],
   "source": [
    "url = 'http://geocoding.geo.census.gov/geocoder/locations/addressbatch'\n",
    "payload = {'benchmark':'Public_AR_Current','vintage':'Current_Current'}\n",
    "files = {'addressFile': ('Addresses.csv', open('Addresses.csv', 'r'), 'text/csv')}\n",
    "r = requests.post(url, files=files, data = payload)"
   ]
  },
  {
   "cell_type": "code",
   "execution_count": 32,
   "metadata": {},
   "outputs": [],
   "source": [
    "url = 'https://geocoding.geo.census.gov/geocoder/geographies/addressbatch?form'\n",
    "payload = {'benchmark':'Public_AR_Current','vintage':'Current_Current'}\n",
    "files = {'addressFile': open('Addresses.csv')}\n",
    "r = requests.post(url, files=files, data = payload)"
   ]
  },
  {
   "cell_type": "code",
   "execution_count": 42,
   "metadata": {},
   "outputs": [
    {
     "data": {
      "text/plain": [
       "'\"88\",\"2002 BARRINGTON MANOR DR # 105, RALEIGH, NC, 27612\",\"Match\",\"Exact\",\"2002 BARRINGTON MANOR DR, RALEIGH, NC, 27612\",\"-78.670494,35.846638\",\"612814022\",\"R\",\"37\",\"183\",\"052505\",\"1013\"'"
      ]
     },
     "execution_count": 42,
     "metadata": {},
     "output_type": "execute_result"
    }
   ],
   "source": [
    "r.text.split(\"\\n\")[0]#[1:-2]"
   ]
  },
  {
   "cell_type": "code",
   "execution_count": 37,
   "metadata": {},
   "outputs": [],
   "source": [
    " # geocode each spreadsheet \n",
    " def censusGeocode(file, output):\n",
    "     url = 'https://geocoding.geo.census.gov/geocoder/geographies/addressbatch?form'\n",
    "     payload = {'benchmark':'Public_AR_Current',\n",
    "                'vintage':'Current_Current',}\n",
    "     files = {'addressFile': open(file)}\n",
    "     r = requests.post(url, files=files, data=payload)\n",
    "     results = str(r.text)\n",
    "     results = re.sub('\"','',results)\n",
    "     results = results.split('\\n')\n",
    "     with open(output, 'w', newline = '') as geocodeOutput:\n",
    "         w = csv.writer(geocodeOutput, delimiter=',')\n",
    "         w.writerows([c.strip() for c in r.split(',')] for r in results)"
   ]
  },
  {
   "cell_type": "code",
   "execution_count": 40,
   "metadata": {},
   "outputs": [],
   "source": [
    " censusGeocode('Addresses.csv', 'censusOutput1.csv')"
   ]
  }
 ],
 "metadata": {
  "kernelspec": {
   "display_name": "Python 3",
   "language": "python",
   "name": "python3"
  },
  "language_info": {
   "codemirror_mode": {
    "name": "ipython",
    "version": 3
   },
   "file_extension": ".py",
   "mimetype": "text/x-python",
   "name": "python",
   "nbconvert_exporter": "python",
   "pygments_lexer": "ipython3",
   "version": "3.6.8"
  }
 },
 "nbformat": 4,
 "nbformat_minor": 2
}
