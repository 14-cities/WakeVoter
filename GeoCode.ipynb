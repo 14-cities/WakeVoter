{
 "cells": [
  {
   "cell_type": "markdown",
   "metadata": {},
   "source": [
    "https://geocoding.geo.census.gov/geocoder/Geocoding_Services_API.pdf"
   ]
  },
  {
   "cell_type": "code",
   "execution_count": 1,
   "metadata": {},
   "outputs": [],
   "source": [
    "import pandas as pd"
   ]
  },
  {
   "cell_type": "code",
   "execution_count": 22,
   "metadata": {},
   "outputs": [],
   "source": [
    "dfAll = pd.read_csv('./data/NCSBE/ncvoter_Wake.csv')\n",
    "numRecs = dfAll.shape[0]"
   ]
  },
  {
   "cell_type": "code",
   "execution_count": 26,
   "metadata": {},
   "outputs": [],
   "source": [
    "fromID = 0\n",
    "toID = 0+10000\n",
    "address_set = dfAll.iloc[fromID:toID,2:-1].dropna(how='any')\n",
    "address_set.to_csv('./scratch/WakeSet{}.csv'.format(fromID),index=True,header=False)"
   ]
  },
  {
   "cell_type": "code",
   "execution_count": 5,
   "metadata": {},
   "outputs": [],
   "source": [
    "df = pd.read_csv('./data/NCSBE/ncvoter_Wake.csv',nrows=10000)\n",
    "df.to_csv('./scratch/WakeSet1.csv',index=False)"
   ]
  },
  {
   "cell_type": "code",
   "execution_count": 4,
   "metadata": {},
   "outputs": [
    {
     "data": {
      "text/plain": [
       "array(['27604', '28412', '27518', ..., '275021058', '90069', '286077742'], dtype=object)"
      ]
     },
     "execution_count": 4,
     "metadata": {},
     "output_type": "execute_result"
    }
   ],
   "source": [
    "#census\n",
    "theURL = 'https://geocoding.geo.census.gov/geocoder/locations/addressbatch --output geocoderesult.csv'"
   ]
  }
 ],
 "metadata": {
  "kernelspec": {
   "display_name": "Python 3",
   "language": "python",
   "name": "python3"
  },
  "language_info": {
   "codemirror_mode": {
    "name": "ipython",
    "version": 3
   },
   "file_extension": ".py",
   "mimetype": "text/x-python",
   "name": "python",
   "nbconvert_exporter": "python",
   "pygments_lexer": "ipython3",
   "version": "3.6.8"
  }
 },
 "nbformat": 4,
 "nbformat_minor": 2
}
