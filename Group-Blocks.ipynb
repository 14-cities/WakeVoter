{
 "cells": [
  {
   "cell_type": "code",
   "execution_count": 26,
   "metadata": {},
   "outputs": [],
   "source": [
    "import pandas as pd\n",
    "import geopandas as gpd"
   ]
  },
  {
   "cell_type": "code",
   "execution_count": 27,
   "metadata": {},
   "outputs": [],
   "source": [
    "#Get block data\n",
    "fcBlocks = gpd.read_file('./data/WAKE/BlockMece.shp')"
   ]
  },
  {
   "cell_type": "code",
   "execution_count": 28,
   "metadata": {},
   "outputs": [],
   "source": [
    "#Subset blocks with fewer than 50 black households\n",
    "fcBlocksSubset  = fcBlocks[fcBlocks.BlackHH < 50]\n",
    "fcBlocksDissolved = gpd.GeoDataFrame(geometry = list(fcBlocksSubset.unary_union))\n",
    "#Copy over crs to new file\n",
    "fcBlocksDissolved.crs = fcBlocksSubset.crs"
   ]
  },
  {
   "cell_type": "code",
   "execution_count": 29,
   "metadata": {},
   "outputs": [],
   "source": [
    "#Spatially the dissolved ID to the subset layer\n",
    "fcBlockSubset2 = gpd.sjoin(fcBlocks1,fcBlocks2,how='left',op='within')"
   ]
  },
  {
   "cell_type": "code",
   "execution_count": 30,
   "metadata": {},
   "outputs": [],
   "source": [
    "#Compute total HH for the dissolved blocks\n",
    "sumHH = fcBlock3.groupby('index_right').agg({'BlackHH':'sum'})\n",
    "dfOut=pd.merge(fcBlocksDissolved,sumHH,left_index=True,right_index=True)\n",
    "dfOut.to_file('./scratch/foo.shp')"
   ]
  },
  {
   "cell_type": "code",
   "execution_count": 25,
   "metadata": {},
   "outputs": [],
   "source": []
  },
  {
   "cell_type": "code",
   "execution_count": null,
   "metadata": {},
   "outputs": [],
   "source": []
  }
 ],
 "metadata": {
  "kernelspec": {
   "display_name": "Python 3",
   "language": "python",
   "name": "python3"
  },
  "language_info": {
   "codemirror_mode": {
    "name": "ipython",
    "version": 3
   },
   "file_extension": ".py",
   "mimetype": "text/x-python",
   "name": "python",
   "nbconvert_exporter": "python",
   "pygments_lexer": "ipython3",
   "version": "3.6.8"
  }
 },
 "nbformat": 4,
 "nbformat_minor": 2
}
