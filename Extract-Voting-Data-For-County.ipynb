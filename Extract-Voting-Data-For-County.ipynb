{
 "cells": [
  {
   "cell_type": "code",
   "execution_count": 2,
   "metadata": {},
   "outputs": [],
   "source": [
    "import pandas as pd\n",
    "import dask.dataframe as dd"
   ]
  },
  {
   "cell_type": "code",
   "execution_count": 71,
   "metadata": {},
   "outputs": [],
   "source": [
    "#Get all the data\n",
    "dfAll = pd.read_csv('./data/NCSBE/ncvoter_Statewide.txt',\n",
    "                    usecols=['county_desc','voter_reg_num','mail_addr1','mail_city',\n",
    "                             'mail_state','mail_zipcode','race_code','party_cd'],\n",
    "                    sep='\\t',\n",
    "                    dtype='str',\n",
    "                    encoding = \"ISO-8859-1\")"
   ]
  },
  {
   "cell_type": "code",
   "execution_count": 80,
   "metadata": {},
   "outputs": [],
   "source": [
    "#Select Wake records\n",
    "dfWake = dfAll[dfAll['county_desc'] == \"WAKE\"].reindex()"
   ]
  },
  {
   "cell_type": "code",
   "execution_count": 81,
   "metadata": {},
   "outputs": [],
   "source": [
    "#Add an address \n",
    "dfWake['address'] = (dfWake['mail_addr1'] + \" \" \n",
    "                     + dfWake['mail_city'] + \" \" \n",
    "                     + dfWake['mail_state'] + \" \"\n",
    "                     + dfWake['mail_zipcode'])"
   ]
  },
  {
   "cell_type": "code",
   "execution_count": 83,
   "metadata": {},
   "outputs": [],
   "source": [
    "#Write to a file\n",
    "dfWake.to_csv('./data/NCSBE/ncvoter_Wake.csv',index=False)"
   ]
  }
 ],
 "metadata": {
  "kernelspec": {
   "display_name": "Python 3",
   "language": "python",
   "name": "python3"
  },
  "language_info": {
   "codemirror_mode": {
    "name": "ipython",
    "version": 3
   },
   "file_extension": ".py",
   "mimetype": "text/x-python",
   "name": "python",
   "nbconvert_exporter": "python",
   "pygments_lexer": "ipython3",
   "version": "3.6.8"
  }
 },
 "nbformat": 4,
 "nbformat_minor": 2
}
